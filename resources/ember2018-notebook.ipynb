{
 "cells": [
  {
   "cell_type": "code",
   "execution_count": 1,
   "metadata": {},
   "outputs": [],
   "source": [
    "import os\n",
    "import ember\n",
    "import pickle\n",
    "import numpy as np\n",
    "import pandas as pd\n",
    "import altair as alt\n",
    "import lightgbm as lgb\n",
    "import matplotlib.pylab as plt\n",
    "from sklearn.metrics import roc_auc_score, roc_curve\n",
    "_ = alt.renderers.enable('notebook')"
   ]
  },
  {
   "cell_type": "code",
   "execution_count": 2,
   "metadata": {},
   "outputs": [],
   "source": [
    "data_dir = \"/home/cuckoo/Desktop/ember/ember2018/\" # change this to where you unzipped the download\n",
    "feature_version=2"
   ]
  },
  {
   "cell_type": "code",
   "execution_count": 3,
   "metadata": {},
   "outputs": [],
   "source": [
    "X_train_path = os.path.join(data_dir, f\"X_train_{feature_version}.dat\")\n",
    "y_train_path = os.path.join(data_dir, f\"y_train_{feature_version}.dat\")\n",
    "# if they don't exist, compute them.\n",
    "if not (os.path.exists(X_train_path) and os.path.exists(y_train_path)):\n",
    "    print(\"creating vectorized features ....\")\n",
    "    ember.create_vectorized_features(data_dir, feature_version=feature_version)\n",
    "    \n",
    "metadata_path = os.path.join(data_dir, f\"metadata_{feature_version}.csv\")\n",
    "if not os.path.exists(metadata_path):\n",
    "    print(\"creating metadata ....\")\n",
    "    _ = ember.create_metadata(data_dir, feature_version=feature_version)"
   ]
  },
  {
   "cell_type": "code",
   "execution_count": 4,
   "metadata": {},
   "outputs": [
    {
     "name": "stdout",
     "output_type": "stream",
     "text": [
      "WARNING: EMBER feature version 2 requires lief version 0.9.0-\n",
      "WARNING:   lief version 0.10.1-bfe5414 found instead. There may be slight inconsistencies\n",
      "WARNING:   in the feature calculations.\n"
     ]
    }
   ],
   "source": [
    "emberdf = ember.read_metadata(data_dir)\n",
    "X_train, y_train, X_test, y_test = ember.read_vectorized_features(data_dir, feature_version=feature_version)\n",
    "f = open(os.path.join(data_dir,f\"SGDR_model_{feature_version}.pkl\"), \"rb\")\n",
    "lgbm_model = pickle.load(f)\n",
    "f.close()"
   ]
  },
  {
   "cell_type": "code",
   "execution_count": 5,
   "metadata": {},
   "outputs": [
    {
     "data": {
      "application/javascript": [
       "const spec = {\"config\": {\"view\": {\"continuousWidth\": 400, \"continuousHeight\": 300}}, \"data\": {\"name\": \"data-7e13dd54bc8a1e4dcd9e783efd3ade07\"}, \"mark\": \"bar\", \"encoding\": {\"color\": {\"type\": \"nominal\", \"field\": \"label\", \"legend\": {\"values\": [\"unlabeled\", \"benign\", \"malicious\"]}, \"scale\": {\"range\": [\"#00b300\", \"#3333ff\", \"#ff3333\"]}}, \"x\": {\"type\": \"ordinal\", \"axis\": {\"title\": \"Subset\"}, \"field\": \"subset\"}, \"y\": {\"type\": \"quantitative\", \"aggregate\": \"sum\", \"axis\": {\"title\": \"Number of samples\"}, \"field\": \"sha256\"}}, \"$schema\": \"https://vega.github.io/schema/vega-lite/v4.0.2.json\", \"datasets\": {\"data-7e13dd54bc8a1e4dcd9e783efd3ade07\": [{\"label\": -1, \"subset\": \"train\", \"sha256\": 200000, \"appeared\": 200000, \"avclass\": 96433}, {\"label\": 0, \"subset\": \"test\", \"sha256\": 100000, \"appeared\": 100000, \"avclass\": 0}, {\"label\": 0, \"subset\": \"train\", \"sha256\": 300000, \"appeared\": 300000, \"avclass\": 0}, {\"label\": 1, \"subset\": \"test\", \"sha256\": 100000, \"appeared\": 100000, \"avclass\": 99321}, {\"label\": 1, \"subset\": \"train\", \"sha256\": 300000, \"appeared\": 300000, \"avclass\": 289246}]}};\n",
       "const opt = {};\n",
       "const type = \"vega-lite\";\n",
       "const id = \"bfcdaf03-a971-4b45-bbad-4196c9e3e4c7\";\n",
       "\n",
       "const output_area = this;\n",
       "\n",
       "require([\"nbextensions/jupyter-vega/index\"], function(vega) {\n",
       "  const target = document.createElement(\"div\");\n",
       "  target.id = id;\n",
       "  target.className = \"vega-embed\";\n",
       "\n",
       "  const style = document.createElement(\"style\");\n",
       "  style.textContent = [\n",
       "    \".vega-embed .error p {\",\n",
       "    \"  color: firebrick;\",\n",
       "    \"  font-size: 14px;\",\n",
       "    \"}\",\n",
       "  ].join(\"\\\\n\");\n",
       "\n",
       "  // element is a jQuery wrapped DOM element inside the output area\n",
       "  // see http://ipython.readthedocs.io/en/stable/api/generated/\\\n",
       "  // IPython.display.html#IPython.display.Javascript.__init__\n",
       "  element[0].appendChild(target);\n",
       "  element[0].appendChild(style);\n",
       "\n",
       "  vega.render(\"#\" + id, spec, type, opt, output_area);\n",
       "}, function (err) {\n",
       "  if (err.requireType !== \"scripterror\") {\n",
       "    throw(err);\n",
       "  }\n",
       "});\n"
      ],
      "text/plain": [
       "<vega.vegalite.VegaLite at 0x7ff49e1f5cf8>"
      ]
     },
     "metadata": {
      "jupyter-vega": "#bfcdaf03-a971-4b45-bbad-4196c9e3e4c7"
     },
     "output_type": "display_data"
    },
    {
     "data": {
      "text/plain": []
     },
     "execution_count": 5,
     "metadata": {},
     "output_type": "execute_result"
    }
   ],
   "source": [
    "plotdf = emberdf.copy()\n",
    "gbdf = plotdf.groupby([\"label\", \"subset\"]).count().reset_index()\n",
    "alt.Chart(gbdf).mark_bar().encode(\n",
    "    alt.X('subset:O', axis=alt.Axis(title='Subset')),\n",
    "    alt.Y('sum(sha256):Q', axis=alt.Axis(title='Number of samples')),\n",
    "    alt.Color('label:N', scale=alt.Scale(range=[\"#00b300\", \"#3333ff\", \"#ff3333\"]), legend=alt.Legend(values=[\"unlabeled\", \"benign\", \"malicious\"]))\n",
    ")"
   ]
  },
  {
   "cell_type": "code",
   "execution_count": 6,
   "metadata": {},
   "outputs": [
    {
     "data": {
      "application/javascript": [
       "const spec = {\"config\": {\"view\": {\"continuousWidth\": 400, \"continuousHeight\": 300}}, \"data\": {\"name\": \"data-58528f5c24b12afa02602281cb716a74\"}, \"mark\": \"bar\", \"encoding\": {\"color\": {\"type\": \"nominal\", \"field\": \"label\", \"legend\": {\"values\": [\"unlabeled\", \"benign\", \"malicious\"]}, \"scale\": {\"range\": [\"#00b300\", \"#3333ff\", \"#ff3333\"]}}, \"x\": {\"type\": \"ordinal\", \"axis\": {\"title\": \"Month appeared\"}, \"field\": \"appeared\"}, \"y\": {\"type\": \"quantitative\", \"aggregate\": \"sum\", \"axis\": {\"title\": \"Number of samples\"}, \"field\": \"sha256\"}}, \"$schema\": \"https://vega.github.io/schema/vega-lite/v4.0.2.json\", \"datasets\": {\"data-58528f5c24b12afa02602281cb716a74\": [{\"appeared\": \" <2018\", \"label\": 0, \"sha256\": 50000, \"subset\": 50000, \"avclass\": 0}, {\"appeared\": \"2018-01\", \"label\": -1, \"sha256\": 22788, \"subset\": 22788, \"avclass\": 10482}, {\"appeared\": \"2018-01\", \"label\": 0, \"sha256\": 29423, \"subset\": 29423, \"avclass\": 0}, {\"appeared\": \"2018-01\", \"label\": 1, \"sha256\": 32491, \"subset\": 32491, \"avclass\": 30723}, {\"appeared\": \"2018-02\", \"label\": -1, \"sha256\": 19319, \"subset\": 19319, \"avclass\": 9644}, {\"appeared\": \"2018-02\", \"label\": 0, \"sha256\": 22915, \"subset\": 22915, \"avclass\": 0}, {\"appeared\": \"2018-02\", \"label\": 1, \"sha256\": 31222, \"subset\": 31222, \"avclass\": 29368}, {\"appeared\": \"2018-03\", \"label\": -1, \"sha256\": 15404, \"subset\": 15404, \"avclass\": 6432}, {\"appeared\": \"2018-03\", \"label\": 0, \"sha256\": 21373, \"subset\": 21373, \"avclass\": 0}, {\"appeared\": \"2018-03\", \"label\": 1, \"sha256\": 20152, \"subset\": 20152, \"avclass\": 19080}, {\"appeared\": \"2018-04\", \"label\": -1, \"sha256\": 18880, \"subset\": 18880, \"avclass\": 8685}, {\"appeared\": \"2018-04\", \"label\": 0, \"sha256\": 25190, \"subset\": 25190, \"avclass\": 0}, {\"appeared\": \"2018-04\", \"label\": 1, \"sha256\": 26892, \"subset\": 26892, \"avclass\": 26061}, {\"appeared\": \"2018-05\", \"label\": -1, \"sha256\": 17088, \"subset\": 17088, \"avclass\": 7232}, {\"appeared\": \"2018-05\", \"label\": 0, \"sha256\": 23719, \"subset\": 23719, \"avclass\": 0}, {\"appeared\": \"2018-05\", \"label\": 1, \"sha256\": 22193, \"subset\": 22193, \"avclass\": 21530}, {\"appeared\": \"2018-06\", \"label\": -1, \"sha256\": 17794, \"subset\": 17794, \"avclass\": 8010}, {\"appeared\": \"2018-06\", \"label\": 0, \"sha256\": 23285, \"subset\": 23285, \"avclass\": 0}, {\"appeared\": \"2018-06\", \"label\": 1, \"sha256\": 25116, \"subset\": 25116, \"avclass\": 23963}, {\"appeared\": \"2018-07\", \"label\": -1, \"sha256\": 18643, \"subset\": 18643, \"avclass\": 8496}, {\"appeared\": \"2018-07\", \"label\": 0, \"sha256\": 24799, \"subset\": 24799, \"avclass\": 0}, {\"appeared\": \"2018-07\", \"label\": 1, \"sha256\": 26622, \"subset\": 26622, \"avclass\": 25880}, {\"appeared\": \"2018-08\", \"label\": -1, \"sha256\": 16693, \"subset\": 16693, \"avclass\": 6794}, {\"appeared\": \"2018-08\", \"label\": 0, \"sha256\": 23634, \"subset\": 23634, \"avclass\": 0}, {\"appeared\": \"2018-08\", \"label\": 1, \"sha256\": 21791, \"subset\": 21791, \"avclass\": 20590}, {\"appeared\": \"2018-09\", \"label\": -1, \"sha256\": 22583, \"subset\": 22583, \"avclass\": 11893}, {\"appeared\": \"2018-09\", \"label\": 0, \"sha256\": 25707, \"subset\": 25707, \"avclass\": 0}, {\"appeared\": \"2018-09\", \"label\": 1, \"sha256\": 37062, \"subset\": 37062, \"avclass\": 35708}, {\"appeared\": \"2018-10\", \"label\": -1, \"sha256\": 30808, \"subset\": 30808, \"avclass\": 18765}, {\"appeared\": \"2018-10\", \"label\": 0, \"sha256\": 29955, \"subset\": 29955, \"avclass\": 0}, {\"appeared\": \"2018-10\", \"label\": 1, \"sha256\": 56459, \"subset\": 56459, \"avclass\": 56343}, {\"appeared\": \"2018-11\", \"label\": 0, \"sha256\": 50000, \"subset\": 50000, \"avclass\": 0}, {\"appeared\": \"2018-11\", \"label\": 1, \"sha256\": 50000, \"subset\": 50000, \"avclass\": 49796}, {\"appeared\": \"2018-12\", \"label\": 0, \"sha256\": 50000, \"subset\": 50000, \"avclass\": 0}, {\"appeared\": \"2018-12\", \"label\": 1, \"sha256\": 50000, \"subset\": 50000, \"avclass\": 49525}]}};\n",
       "const opt = {};\n",
       "const type = \"vega-lite\";\n",
       "const id = \"47acea6a-f7bb-4f4a-aab3-a148ab86cb99\";\n",
       "\n",
       "const output_area = this;\n",
       "\n",
       "require([\"nbextensions/jupyter-vega/index\"], function(vega) {\n",
       "  const target = document.createElement(\"div\");\n",
       "  target.id = id;\n",
       "  target.className = \"vega-embed\";\n",
       "\n",
       "  const style = document.createElement(\"style\");\n",
       "  style.textContent = [\n",
       "    \".vega-embed .error p {\",\n",
       "    \"  color: firebrick;\",\n",
       "    \"  font-size: 14px;\",\n",
       "    \"}\",\n",
       "  ].join(\"\\\\n\");\n",
       "\n",
       "  // element is a jQuery wrapped DOM element inside the output area\n",
       "  // see http://ipython.readthedocs.io/en/stable/api/generated/\\\n",
       "  // IPython.display.html#IPython.display.Javascript.__init__\n",
       "  element[0].appendChild(target);\n",
       "  element[0].appendChild(style);\n",
       "\n",
       "  vega.render(\"#\" + id, spec, type, opt, output_area);\n",
       "}, function (err) {\n",
       "  if (err.requireType !== \"scripterror\") {\n",
       "    throw(err);\n",
       "  }\n",
       "});\n"
      ],
      "text/plain": [
       "<vega.vegalite.VegaLite at 0x7ff49b1ec940>"
      ]
     },
     "metadata": {
      "jupyter-vega": "#47acea6a-f7bb-4f4a-aab3-a148ab86cb99"
     },
     "output_type": "display_data"
    },
    {
     "data": {
      "text/plain": []
     },
     "execution_count": 6,
     "metadata": {},
     "output_type": "execute_result"
    }
   ],
   "source": [
    "plotdf = emberdf.copy()\n",
    "plotdf.loc[plotdf[\"appeared\"] < \"2018-01\", \"appeared\"] = \" <2018\"\n",
    "gbdf = plotdf.groupby([\"appeared\", \"label\"]).count().reset_index()\n",
    "alt.Chart(gbdf).mark_bar().encode(\n",
    "    alt.X('appeared:O', axis=alt.Axis(title='Month appeared')),\n",
    "    alt.Y('sum(sha256):Q', axis=alt.Axis(title='Number of samples')),\n",
    "    alt.Color('label:N', scale=alt.Scale(range=[\"#00b300\", \"#3333ff\", \"#ff3333\"]), legend=alt.Legend(values=[\"unlabeled\", \"benign\", \"malicious\"]))\n",
    ")"
   ]
  },
  {
   "cell_type": "code",
   "execution_count": null,
   "metadata": {},
   "outputs": [],
   "source": [
    "y_test_pred = lgbm_model.predict(X_test)\n",
    "y_train_pred = lgbm_model.predict(X_train)\n",
    "emberdf[\"y_pred\"] = np.hstack((y_train_pred, y_test_pred))"
   ]
  },
  {
   "cell_type": "code",
   "execution_count": null,
   "metadata": {},
   "outputs": [],
   "source": [
    "def get_fpr(y_true, y_pred):\n",
    "    nbenign = (y_true == 0).sum()\n",
    "    nfalse = (y_pred[y_true == 0] == 1).sum()\n",
    "    return nfalse / float(nbenign)\n",
    "\n",
    "\n",
    "def find_threshold(y_true, y_pred, fpr_target):\n",
    "    thresh = 0.0\n",
    "    fpr = get_fpr(y_true, y_pred > thresh)\n",
    "    while fpr > fpr_target and thresh < 1.0:\n",
    "        thresh += 0.0001\n",
    "        fpr = get_fpr(y_true, y_pred > thresh)\n",
    "    return thresh, fpr\n",
    "\n",
    "testdf = emberdf[emberdf[\"subset\"] == \"test\"]\n",
    "print(\"ROC AUC:\", roc_auc_score(testdf.label, testdf.y_pred))\n",
    "print()\n",
    "\n",
    "threshold, fpr = find_threshold(testdf.label, testdf.y_pred, 0.01)\n",
    "fnr = (testdf.y_pred[testdf.label == 1] < threshold).sum() / float((testdf.label == 1).sum())\n",
    "print(\"Ember Model Performance at 1% FPR:\")\n",
    "print(\"Threshold: {:.4f}\".format(threshold))\n",
    "print(\"False Positive Rate: {:.3f}%\".format(fpr * 100))\n",
    "print(\"False Negative Rate: {:.3f}%\".format(fnr * 100))\n",
    "print(\"Detection Rate: {}%\".format(100 - fnr * 100))\n",
    "print()\n",
    "\n",
    "threshold, fpr = find_threshold(testdf.label, testdf.y_pred, 0.001)\n",
    "fnr = (testdf.y_pred[testdf.label == 1] < threshold).sum() / float((testdf.label == 1).sum())\n",
    "print(\"Ember Model Performance at 0.1% FPR:\")\n",
    "print(\"Threshold: {:.4f}\".format(threshold))\n",
    "print(\"False Positive Rate: {:.3f}%\".format(fpr * 100))\n",
    "print(\"False Negative Rate: {:.3f}%\".format(fnr * 100))\n",
    "print(\"Detection Rate: {}%\".format(100 - fnr * 100))"
   ]
  },
  {
   "cell_type": "code",
   "execution_count": null,
   "metadata": {},
   "outputs": [],
   "source": [
    "plt.figure(figsize=(8, 8))\n",
    "fpr_plot, tpr_plot, _ = roc_curve(testdf.label, testdf.y_pred)\n",
    "plt.plot(fpr_plot, tpr_plot, lw=4, color='k')\n",
    "plt.gca().set_xscale(\"log\")\n",
    "plt.yticks(np.arange(22) / 20.0)\n",
    "plt.xlim([4e-5, 1.0])\n",
    "plt.ylim([0.65, 1.01])\n",
    "plt.gca().grid(True)\n",
    "plt.vlines(fpr, 0, 1 - fnr, color=\"r\", lw=2)\n",
    "plt.hlines(1 - fnr, 0, fpr, color=\"r\", lw=2)\n",
    "plt.xlabel(\"False positive rate\")\n",
    "plt.ylabel(\"True positive rate\")\n",
    "_ = plt.title(\"Ember Model ROC Curve\")"
   ]
  },
  {
   "cell_type": "code",
   "execution_count": null,
   "metadata": {},
   "outputs": [],
   "source": [
    "fig = plt.figure(figsize=(8, 8))\n",
    "testdf[testdf[\"label\"] == 0].y_pred.hist(range=[0, 1], bins=10, color=\"#3333ff\", alpha=0.8, label=\"benign\")\n",
    "testdf[testdf[\"label\"] == 1].y_pred.hist(range=[0, 1], bins=10, color=\"#ff3333\", alpha=0.8, label=\"malicious\")\n",
    "plt.gca().set_yscale(\"log\", nonposy=\"clip\")\n",
    "plt.gca().grid(False)\n",
    "plt.xlabel(\"Score\")\n",
    "plt.ylabel(\"Count\")\n",
    "_ = plt.title(\"Ember Test Set Model Score\")"
   ]
  }
 ],
 "metadata": {
  "kernelspec": {
   "display_name": "Python 3",
   "language": "python",
   "name": "python3"
  },
  "language_info": {
   "codemirror_mode": {
    "name": "ipython",
    "version": 3
   },
   "file_extension": ".py",
   "mimetype": "text/x-python",
   "name": "python",
   "nbconvert_exporter": "python",
   "pygments_lexer": "ipython3",
   "version": "3.7.3"
  }
 },
 "nbformat": 4,
 "nbformat_minor": 2
}
